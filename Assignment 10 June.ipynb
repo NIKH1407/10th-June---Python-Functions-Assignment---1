{
 "cells": [
  {
   "cell_type": "code",
   "execution_count": null,
   "id": "67cb359f",
   "metadata": {},
   "outputs": [],
   "source": [
    "#In Python, what is the difference between a built-in function and a user-defined function? Provide an example of each."
   ]
  },
  {
   "cell_type": "code",
   "execution_count": null,
   "id": "2923dc19",
   "metadata": {},
   "outputs": [],
   "source": [
    "\"\"\"In Python, the main difference between a built-in function and a user-defined function lies in their origins and how they are defined.\n",
    "\n",
    "Built-in function:\n",
    "A built-in function in Python is a function that is pre-defined in the Python language itself. \n",
    "These functions are readily available for use without requiring any additional code or module imports. \n",
    "Python provides a wide range of built-in functions that serve various purposes, such as manipulating data, \n",
    "performing mathematical operations, handling strings, and more.\n",
    "\n",
    "my_string = \"Hello, world!\"\n",
    "length = len(my_string)\n",
    "print(length) \n",
    "\n",
    "\n",
    "In the example above, the len() function is a built-in function that returns the length of a given string.\n",
    "\n",
    "User-defined function:\n",
    "A user-defined function is created by the programmer to perform a specific task. \n",
    "These functions are defined using the def keyword followed by a function name, parentheses for optional parameters,\n",
    "and a colon. \n",
    "The code block within the function is indented and contains the instructions to be executed when the function is called.\n",
    "Here's an example of a user-defined function:\n",
    "\n",
    "def calculate_square(num):\n",
    "    square = num ** 2\n",
    "    return square\n",
    "\n",
    "# Calling the user-defined function\n",
    "result = calculate_square(5)\n",
    "print(result)\n",
    "\n",
    "In the above example, the calculate_square() function is a user-defined function that takes a number as an argument, \n",
    "calculates its square, and returns the result.\"\"\""
   ]
  },
  {
   "cell_type": "code",
   "execution_count": null,
   "id": "b559062d",
   "metadata": {},
   "outputs": [],
   "source": [
    "#How can you pass arguments to a function in Python? Explain the difference between positional arguments and keyword arguments."
   ]
  },
  {
   "cell_type": "code",
   "execution_count": null,
   "id": "acc77430",
   "metadata": {},
   "outputs": [],
   "source": [
    "\"\"\"In Python, you can pass arguments to a function in a couple of ways: positional arguments and keyword arguments.\n",
    "\n",
    "Positional arguments are passed to a function based on their order in the function call.\n",
    "Keyword arguments are passed to a function by explicitly mentioning the parameter names.\n",
    "Positional arguments depend on the order, while keyword arguments do not.\n",
    "Default parameter values can be used to make certain arguments optional when calling a function.\"\"\"\n",
    "\n",
    "\n"
   ]
  },
  {
   "cell_type": "code",
   "execution_count": null,
   "id": "6e760835",
   "metadata": {},
   "outputs": [],
   "source": [
    "#What is the purpose of the return statement in a function? Can a function have multiple return statements? Explain with an example"
   ]
  },
  {
   "cell_type": "code",
   "execution_count": null,
   "id": "b4b96fcd",
   "metadata": {},
   "outputs": [],
   "source": [
    "\"\"\"\"The return statement in a function specifies the value(s) that the function should produce as output.\n",
    "It allows the function to pass data back to the calling code.\n",
    "A function can have multiple return statements.\n",
    "Once a return statement is encountered, the function immediately exits and returns the specified value.\n",
    "Only one return statement is executed during a function call, even if there are multiple return statements in the function.\n",
    "\n",
    "# Function to determine the type of a given number\n",
    "def get_number_type(number):\n",
    "    if number > 0:\n",
    "        return \"Positive\"\n",
    "    elif number < 0:\n",
    "        return \"Negative\"\n",
    "    else:\n",
    "        return \"Zero\"\n",
    "\n",
    "# Calling the function with different numbers\n",
    "print(get_number_type(5))   # Output: Positive\n",
    "print(get_number_type(-3))  # Output: Negative\n",
    "print(get_number_type(0))   # Output: Zero\"\"\"\"\n"
   ]
  },
  {
   "cell_type": "code",
   "execution_count": null,
   "id": "6125fcc2",
   "metadata": {},
   "outputs": [],
   "source": [
    "#What are lambda functions in Python? How are they different from regular functions? Provide an example where a lambda function can be useful."
   ]
  },
  {
   "cell_type": "code",
   "execution_count": null,
   "id": "9ef0c148",
   "metadata": {},
   "outputs": [],
   "source": [
    "\"\"\"\"In Python, lambda functions, also known as anonymous functions, are small, \n",
    "one-line functions that do not require a function name. They are defined using the lambda keyword, \n",
    "followed by one or more arguments, a colon, and an expression. Lambda functions are typically used when \n",
    "you need a simple function without the need for a complete function definition.\n",
    "\n",
    "add = lambda x, y: x + y\n",
    "result = add(3, 5)\n",
    "print(result)  # Output: 8\"\"\"\"\n"
   ]
  },
  {
   "cell_type": "code",
   "execution_count": null,
   "id": "0f52605e",
   "metadata": {},
   "outputs": [],
   "source": [
    "#How does the concept of \"scope\" apply to functions in Python? Explain the difference between local scope and global scope."
   ]
  },
  {
   "cell_type": "code",
   "execution_count": null,
   "id": "5a0ebfa7",
   "metadata": {},
   "outputs": [],
   "source": [
    "\n",
    "\"\"\"\"- Scope refers to the visibility and accessibility of variables in a program.\n",
    "- Local scope is the area within a function where variables are defined and can only be accessed within that function.\n",
    "- Global scope is the outermost level of a program where variables are defined and can be accessed from anywhere in the program.\n",
    "- Variables defined in local scope take precedence over variables in global scope with the same name.\n",
    "- Local variables are not visible or accessible outside the function.\n",
    "- Global variables are accessible throughout the program, including inside functions.\"\"\"\""
   ]
  },
  {
   "cell_type": "code",
   "execution_count": null,
   "id": "0d14850b",
   "metadata": {},
   "outputs": [],
   "source": [
    "\n",
    "#How can you use the \"return\" statement in a Python function to return multiple values?\n"
   ]
  },
  {
   "cell_type": "code",
   "execution_count": null,
   "id": "7ab57c79",
   "metadata": {},
   "outputs": [],
   "source": [
    "\"\"\"\"In Python, you can use the return statement in a function to return multiple values by returning them as a tuple, list, \n",
    "or any other iterable data structure. \n",
    "This allows you to conveniently return multiple pieces of data from a function as a single entity.\n",
    "\n",
    "def get_person_details():\n",
    "    name = \"Alice\"\n",
    "    age = 30\n",
    "    country = \"USA\"\n",
    "    return name, age, country\n",
    "\n",
    "person_info = get_person_details()\n",
    "print(person_info)  \"\"\"\"\"\n"
   ]
  },
  {
   "cell_type": "code",
   "execution_count": null,
   "id": "7e1f935d",
   "metadata": {},
   "outputs": [],
   "source": [
    "#What is the difference between the \"pass by value\" and \"pass by reference\" concepts when itcomes to function arguments in Python?"
   ]
  },
  {
   "cell_type": "code",
   "execution_count": null,
   "id": "184b50b6",
   "metadata": {},
   "outputs": [],
   "source": [
    "\"\"\"\"Python uses a \"passing by object reference\" mechanism.\n",
    "Immutable objects (e.g., numbers, strings, tuples) behave like pass by value.\n",
    "Mutable objects (e.g., lists, dictionaries) behave like pass by reference.\n",
    "Immutable objects create a new object when modified inside a function, leaving the original unchanged.\n",
    "Mutable objects can be modified inside a function, affecting the original object outside the function.\"\"\""
   ]
  },
  {
   "cell_type": "code",
   "execution_count": null,
   "id": "15c73235",
   "metadata": {},
   "outputs": [],
   "source": [
    "\"\"\"\"Create a function that can intake integer or decimal value and do following operations:\n",
    "a. Logarithmic function (log x)\n",
    "b. Exponential function (exp(x))\n",
    "c. Power function with base 2 (2x)\n",
    "d. Square root\"\"\""
   ]
  },
  {
   "cell_type": "code",
   "execution_count": null,
   "id": "f1cbb62e",
   "metadata": {},
   "outputs": [],
   "source": [
    "import math\n",
    "\n",
    "def perform_operations(value):\n",
    "    logarithm = math.log(value)\n",
    "    exponential = math.exp(value)\n",
    "    power_of_2 = 2 ** value\n",
    "    square_root = math.sqrt(value)\n",
    "    \n",
    "    return logarithm, exponential, power_of_2, square_root\n",
    "\n",
    "# Example usage\n",
    "result = perform_operations(3)\n",
    "print(result)\n"
   ]
  },
  {
   "cell_type": "code",
   "execution_count": null,
   "id": "f0cd5b6c",
   "metadata": {},
   "outputs": [],
   "source": [
    "#Create a function that takes a full name as an argument and returns first name and last name."
   ]
  },
  {
   "cell_type": "code",
   "execution_count": null,
   "id": "aa36d139",
   "metadata": {},
   "outputs": [],
   "source": [
    "def get_first_last_name(full_name):\n",
    "    names = full_name.split()\n",
    "    first_name = names[0]\n",
    "    last_name = names[-1]\n",
    "    return first_name, last_name\n",
    "\n",
    "# Example usage\n",
    "name = \"John Doe\"\n",
    "first, last = get_first_last_name(name)\n",
    "print(\"First Name:\", first)\n",
    "print(\"Last Name:\", last)\n"
   ]
  }
 ],
 "metadata": {
  "kernelspec": {
   "display_name": "Python 3 (ipykernel)",
   "language": "python",
   "name": "python3"
  },
  "language_info": {
   "codemirror_mode": {
    "name": "ipython",
    "version": 3
   },
   "file_extension": ".py",
   "mimetype": "text/x-python",
   "name": "python",
   "nbconvert_exporter": "python",
   "pygments_lexer": "ipython3",
   "version": "3.9.7"
  }
 },
 "nbformat": 4,
 "nbformat_minor": 5
}
